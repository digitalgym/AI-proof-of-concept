{
 "cells": [
  {
   "cell_type": "code",
   "execution_count": 2,
   "metadata": {
    "dotnet_interactive": {
     "language": "csharp"
    },
    "polyglot_notebook": {
     "kernelName": "csharp"
    },
    "vscode": {
     "languageId": "polyglot-notebook"
    }
   },
   "outputs": [
    {
     "data": {
      "text/html": [
       "<div><div></div><div></div><div><strong>Installed Packages</strong><ul><li><span>CsvHelper, 30.0.3</span></li><li><span>Microsoft.Data.Analysis, 0.21.1</span></li></ul></div></div>"
      ]
     },
     "metadata": {},
     "output_type": "display_data"
    },
    {
     "data": {
      "text/plain": [
       "Loading extensions from `C:\\Users\\aaandrew.forkes\\.nuget\\packages\\microsoft.data.analysis\\0.21.1\\interactive-extensions\\dotnet\\Microsoft.Data.Analysis.Interactive.dll`"
      ]
     },
     "metadata": {},
     "output_type": "display_data"
    }
   ],
   "source": [
    "#r \"nuget:CsvHelper,30.0.3\"\n",
    "#r \"nuget:Microsoft.Data.Analysis,0.21.1\""
   ]
  },
  {
   "cell_type": "code",
   "execution_count": 31,
   "metadata": {
    "dotnet_interactive": {
     "language": "csharp"
    },
    "polyglot_notebook": {
     "kernelName": "csharp"
    },
    "vscode": {
     "languageId": "polyglot-notebook"
    }
   },
   "outputs": [
    {
     "name": "stdout",
     "output_type": "stream",
     "text": [
      "8                                                                       Occupant/Insured details of event accurately captured - How, When, What \n",
      "9                                                                       Builders Observations accurately recorded                               \n",
      "10                                                                      Primary Causation accurately recorded                                   \n",
      "11                                                                      Builders Conclusion - clear, concise, correct policy response, correct referral determination\n",
      "12                                                                      Report Details - Asbestos, Owner Maintenance and Defects, Accommodation - accurately filled out\n",
      "13                                                                      Clear return note to Submissions team                                   \n",
      "14                                                                      Assessment responds correctly to PDS requirements i.e. Open Plan areas, Matching, exploratory works\n",
      "\n",
      "Suncorp job - 20055157 Column1                Form Question          Audit question         \n",
      "110                    Date                   Fri, Dec 15 2023       12                     \n",
      "120                    Time                   14:14 PM               12                     \n",
      "130                    Assessment Attended By:Insured 1              12                     \n",
      "140                    Attended By - Name:    Alec Jones             8                      \n",
      "210                    Dwelling Type          Lowset                 12                     \n",
      "220                    Total Area m2          372                    12                     \n",
      "230                    Construction           brick veneer           12                     \n",
      "240                    Roof Type              custom orb - colour coated12                     \n",
      "250                    Age of Home            15                     12                     \n",
      "260                    Condition              good                   12                     \n",
      "270                    Type of Claim          Storm                  8                      \n",
      "320                    Confirm the Event Date with the insured4/12/2023              8                      \n",
      "330                    Details Provided by the OccupantThe insured customer advised the property was damaged during the recent hailstorm event which occurred on the reported date of loss.   They advised the roof sheeting was only replaced six months ago from a previous claimed event.8                      \n",
      "350                    Details                RESULTANT DAMAGE  MAIN ROOF   Hail damage occurred to the roof where dents are evident throughout the roof cover, including roof sheeting, flashings and cappings. The roof requires complete replacement.  Hell damage occurred to the solar panels where some panels are smashed and require full replacement, please see the specialist report attached.   SHED  Hail damage occurred to the Shed where denting is evident to the roof, requiring complete replacement of the Shed.    CAUSE OF DAMAGE    Resultant damage is consistent with hailstones impacting the roof on the reported date of loss. Hail dents are evident on all elevations of the roof. Hail dents are more visible in some areas depending on the direction of the sunlight reflecting over the roof.  Data Obtained from the Bureau of Meteorology confirms that a large storm cell that produced large hail was recorded over South East Queensland on the reported date of loss - 04/12/2023.9                      \n",
      "353                    Primary Causation:     Storm                  10                     \n",
      "356                    Are there any engineers reports required for this claim?No                     11                     \n",
      "370                    Is the damage consistent with the claimed event?Yes                    9                      \n",
      "380                    Conclusion             The resulting damage being claimed is consistent with a severe hail storm experienced on the reported date of loss, where denting is evident throughout the property.  Accordingly, we are of the opinion that the claimed damages are covered under the insured PDS.  As the quoted cost of the claim exceeds our delegated authority, we will not proceed with the repair and await further instructions.11                     \n",
      "410                    Asbestos Type          No Asbestos            12                     \n",
      "440                    External Trades/ RepairsCarpentry,Metal Roofing,Painting,Solar9                      \n",
      "510                    Are there customer repairs required?No                     7                      \n",
      "540                    Are there building defects on the property?No                     7                      \n",
      "570                    Does the customer require temporary accommodation?No                     12                     \n",
      "610                    Policy Determination   Accept                 12                     \n",
      "620                    Policy Determination   As per the recommendation of the Suncorp assessor during the dual assessment, we believe the resultant damage is covered under the policy PDS.11                     \n",
      "\n",
      "1                     01. Image File Review Column2               0                     \n",
      "2                     02. Front Elevation   Passed                1                     \n",
      "3                     03. Mud Map           Needs Improvement     0                     \n",
      "4                     04. Video captured of scope of works/pre-startNeeds Improvement     0                     \n",
      "5                     05. Correct use of available technology e.g. moisture meter/thermal cameraNA                    0                     \n",
      "6                     06. Photos clearly labelledPassed                1                     \n",
      "7                     07. Appropriate number and quality of photos per affected locationPassed                1                     \n",
      "8                     08. Pre-existing defects and damage not related to the claimed event accurately captured and labelledPassed                1                     \n",
      "9                     09.                                         0                     \n",
      "10                    10. Building Report Quality                      0                     \n",
      "11                    11. Occupant/Insured details of event accurately captured - How, When, WhatPassed                1                     \n",
      "12                    12. Builders Observations accurately recordedPassed                1                     \n",
      "13                    13. Primary Causation accurately recordedPassed                1                     \n",
      "14                    14. Builders Conclusion - clear, concise, correct policy response, correct referral determinationPassed                1                     \n",
      "15                    15. Report Details - Asbestos, Owner Maintenance and Defects, Accomodation - accurately filled outPassed                1                     \n",
      "16                    16. Clear return note to Submissions teamPassed                1                     \n",
      "17                    17. Assesment responds correctly to PDS requirements i.e. Open Plan areas, Matching, exploratory worksPassed                1                     \n",
      "18                    18.                                         0                     \n",
      "19                    19. Scope of Works Quality                      0                     \n",
      "20                    20. Overall measurements for each room stated/Bluetooth measurePassed                1                     \n",
      "21                    21. Scope responds correctly to PDS requirements i.e. Open Plan areas, Matching, exploratory worksNA                    0                     \n",
      "22                    22. Custom items used only when Product Catalog items not availablePassed                1                     \n",
      "23                    23. Items missed within the scopePassed                1                     \n",
      "24                    24. Over scoping - Items not required within scopeNeeds Improvement     0                     \n",
      "25                    25. Room quantities adjusted to match the repairPassed                1                     \n",
      "26                    26. Correct products identified as like for likePassed                1                     \n",
      "\n"
     ]
    }
   ],
   "source": [
    "using CsvHelper;\n",
    "using CsvHelper.Configuration;\n",
    "using System.Globalization;\n",
    "using System.IO;\n",
    "using Microsoft.Data.Analysis;\n",
    "\n",
    "List<dynamic> buildersResponses;\n",
    "List<dynamic> tsaResponses;\n",
    "var configuration = new CsvConfiguration(CultureInfo.InvariantCulture)\n",
    "{\n",
    "    HasHeaderRecord = false,\n",
    "};\n",
    "\n",
    "var df1 = DataFrame.LoadCsv(\"tsa_audit_questions.csv\");\n",
    "Console.WriteLine(df1);\n",
    "var df2 = DataFrame.LoadCsv(\"datasets\\\\20068119\\\\Builders_assessment_report_suncorp_20068119.csv\");\n",
    "Console.WriteLine(df2);\n",
    "var df3 = DataFrame.LoadCsv(\"datasets\\\\20068119\\\\tsa_responses_suncorp.csv\");\n",
    "Console.WriteLine(df3);\n"
   ]
  },
  {
   "cell_type": "code",
   "execution_count": 39,
   "metadata": {
    "dotnet_interactive": {
     "language": "csharp"
    },
    "polyglot_notebook": {
     "kernelName": "csharp"
    },
    "vscode": {
     "languageId": "polyglot-notebook"
    }
   },
   "outputs": [],
   "source": [
    "string? getTSAQuestion(string field1)\n",
    "{\n",
    "    if (field1 == \"N/A\")\n",
    "        return null;\n",
    "   var field = tsaAuditQuestions.First(_ => _.Field1 == field1);\n",
    "\n",
    "    return field.Field2;\n",
    "}\n",
    "\n",
    "dynamic? getTSAResponse(string field1)\n",
    "{\n",
    "    if (field1 == \"N/A\")\n",
    "        return null;\n",
    "    var field = tsaResponses.First(_ => _.Field1 == field1);\n",
    "\n",
    "    var score = field.Field4;\n",
    "    return new { Note = field.Field2, Score = score };\n",
    "}"
   ]
  },
  {
   "cell_type": "code",
   "execution_count": 40,
   "metadata": {
    "dotnet_interactive": {
     "language": "csharp"
    },
    "polyglot_notebook": {
     "kernelName": "csharp"
    },
    "vscode": {
     "languageId": "polyglot-notebook"
    }
   },
   "outputs": [],
   "source": [
    "List<dynamic> tsaAuditQuestions;\n",
    "using (var reader = new StreamReader(\"tsa_audit_questions.csv\"))\n",
    "using (var csv = new CsvReader(reader, configuration))\n",
    "{\n",
    "    tsaAuditQuestions = csv.GetRecords<dynamic>().ToList();\n",
    "}"
   ]
  },
  {
   "cell_type": "code",
   "execution_count": 41,
   "metadata": {
    "dotnet_interactive": {
     "language": "csharp"
    },
    "polyglot_notebook": {
     "kernelName": "csharp"
    },
    "vscode": {
     "languageId": "polyglot-notebook"
    }
   },
   "outputs": [
    {
     "name": "stdout",
     "output_type": "stream",
     "text": [
      "------ NEW PROMPT ------\n",
      "12\n"
     ]
    },
    {
     "ename": "Error",
     "evalue": "System.ArgumentNullException: Value cannot be null. (Parameter 'source')\r\n   at System.Linq.ThrowHelper.ThrowArgumentNullException(ExceptionArgument argument)\r\n   at System.Linq.Enumerable.TryGetFirst[TSource](IEnumerable`1 source, Func`2 predicate, Boolean& found)\r\n   at System.Linq.Enumerable.First[TSource](IEnumerable`1 source, Func`2 predicate)\r\n   at Submission#39.getTSAResponse(String field1)\r\n   at System.Dynamic.UpdateDelegates.UpdateAndExecute2[T0,T1,TRet](CallSite site, T0 arg0, T1 arg1)\r\n   at Submission#41.<<Initialize>>d__0.MoveNext()\r\n--- End of stack trace from previous location ---\r\n   at Microsoft.CodeAnalysis.Scripting.ScriptExecutionState.RunSubmissionsAsync[TResult](ImmutableArray`1 precedingExecutors, Func`2 currentExecutor, StrongBox`1 exceptionHolderOpt, Func`2 catchExceptionOpt, CancellationToken cancellationToken)",
     "output_type": "error",
     "traceback": [
      "System.ArgumentNullException: Value cannot be null. (Parameter 'source')\r\n",
      "   at System.Linq.ThrowHelper.ThrowArgumentNullException(ExceptionArgument argument)\r\n",
      "   at System.Linq.Enumerable.TryGetFirst[TSource](IEnumerable`1 source, Func`2 predicate, Boolean& found)\r\n",
      "   at System.Linq.Enumerable.First[TSource](IEnumerable`1 source, Func`2 predicate)\r\n",
      "   at Submission#39.getTSAResponse(String field1)\r\n",
      "   at System.Dynamic.UpdateDelegates.UpdateAndExecute2[T0,T1,TRet](CallSite site, T0 arg0, T1 arg1)\r\n",
      "   at Submission#41.<<Initialize>>d__0.MoveNext()\r\n",
      "--- End of stack trace from previous location ---\r\n",
      "   at Microsoft.CodeAnalysis.Scripting.ScriptExecutionState.RunSubmissionsAsync[TResult](ImmutableArray`1 precedingExecutors, Func`2 currentExecutor, StrongBox`1 exceptionHolderOpt, Func`2 catchExceptionOpt, CancellationToken cancellationToken)"
     ]
    }
   ],
   "source": [
    "using (var reader = new StreamReader(\"datasets\\\\20068119\\\\Builders_assessment_report_suncorp_20068119.csv\"))\n",
    "using (var csv = new CsvReader(reader, configuration))\n",
    "{\n",
    "    var records = csv.GetRecords<dynamic>();\n",
    "    var groupedBuilderformresponses = records.GroupBy(_ => _.Field4);\n",
    "\n",
    "    foreach (var group in groupedBuilderformresponses)\n",
    "    {\n",
    "        Console.WriteLine(\"------ NEW PROMPT ------\");\n",
    "        var groupId = group.Key;\n",
    "        Console.WriteLine(groupId);\n",
    "\n",
    "        var tsaQuestion = getTSAQuestion(groupId);\n",
    "        var tsaResponse = getTSAResponse(groupId);\n",
    "        // Console.WriteLine(tsaQuestion);\n",
    "        // Console.WriteLine(tsaResponse);\n",
    "        // foreach (var item in group)\n",
    "        // {\n",
    "        //     Console.WriteLine(item);\n",
    "        // }\n",
    "    }\n",
    "}"
   ]
  }
 ],
 "metadata": {
  "language_info": {
   "name": "python"
  }
 },
 "nbformat": 4,
 "nbformat_minor": 2
}
