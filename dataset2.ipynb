{
 "cells": [
  {
   "cell_type": "code",
   "execution_count": 1,
   "metadata": {
    "dotnet_interactive": {
     "language": "csharp"
    },
    "polyglot_notebook": {
     "kernelName": "csharp"
    },
    "vscode": {
     "languageId": "polyglot-notebook"
    }
   },
   "outputs": [
    {
     "name": "stdout",
     "output_type": "stream",
     "text": [
      "Hello World!\r\n"
     ]
    }
   ],
   "source": [
    "Console.WriteLine(\"Hello World!\");\n",
    "\n",
    "\n",
    "var configuration = new CsvConfiguration(CultureInfo.InvariantCulture)\n",
    "{\n",
    "    HasHeaderRecord = false,\n",
    "};\n",
    "using (var reader = new StreamReader(\"filePersons.csv\"))\n",
    "using (var csv = new CsvReader(reader, configuration))\n",
    "{\n",
    "    var records = csv.GetRecords<Person>();\n",
    "}"
   ]
  }
 ],
 "metadata": {
  "language_info": {
   "name": "python"
  }
 },
 "nbformat": 4,
 "nbformat_minor": 2
}
