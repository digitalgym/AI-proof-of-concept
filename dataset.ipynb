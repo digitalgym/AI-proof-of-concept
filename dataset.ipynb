{
 "cells": [
  {
   "cell_type": "markdown",
   "metadata": {},
   "source": [
    "# Audit Responses"
   ]
  },
  {
   "cell_type": "code",
   "execution_count": 6,
   "metadata": {},
   "outputs": [
    {
     "name": "stdout",
     "output_type": "stream",
     "text": [
      "[['ï»¿01. Image File Review', '', '0'], ['02. Front Elevation', 'Passed', '1'], ['03. Mud Map', 'Passed', '1'], ['04. Video captured of scope of works/pre-start', 'NA', '0'], ['05. Correct use of available technology e.g. moisture meter/thermal camera', 'NA', '0'], ['06. Photos clearly labelled', 'Passed', '1'], ['07. Appropriate number and quality of photos per affected location', 'Passed', '1'], ['08. Pre-existing defects and damage not related to the claimed event accurately captured and labelled', 'Passed', '1'], ['09. ', '', '0'], ['10. Building Report Quality', '', '0'], ['11. Occupant/Insured details of event accurately captured - How, When, What', 'Passed', '1'], ['12. Builders Observations accurately recorded', 'Passed', '1'], ['13. Primary Causation accurately recorded', 'Passed', '1'], ['14. Builders Conclusion - clear, concise, correct policy response, correct referral determination', 'Passed', '1'], ['15. Report Details - Asbestos, Owner Maintenance and Defects, Accomodation - accurately filled out', 'Passed', '1'], ['16. Clear return note to Submissions team', 'Passed', '1'], ['17. ', '', '0'], ['18. Scope of Works Quality', '', '0'], ['19. Overall measurements for each room stated/Bluetooth measure', 'Passed', '1'], ['20. Scope responds correctly to PDS requirements i.e. Open Plan areas, Matching, exploratory works', 'Passed', '1'], ['21. Custom items used only when Product Catalog items not available', 'Passed', '1'], ['22. Items missed within the scope', 'Passed', '1'], ['23. Room quantities adjusted to match the repair', 'Failed', '0'], ['24. Correct products identified as like for like', 'Failed', '0'], ['25. ', '', '0'], ['26. ', '', '0'], ['27. ', '', '0'], ['28. ', '', '0'], ['29. ', '', '0'], ['30. ', '', '0'], ['31. ', '', '0'], ['32. ', '', '0'], ['33. ', '', '0'], ['34. ', '', '0'], ['35. ', '', '0'], ['36. ', '', '0'], ['37. ', '', '0'], ['38. ', '', '0'], ['39. ', '', '0'], ['40. ', '', '0'], ['41. ', '', '0'], ['42. ', '', '0'], ['43. ', '', '0'], ['44. ', '', '0'], ['45. ', '', '0'], ['46. ', '', '0'], ['47. ', '', '0']]\n"
     ]
    }
   ],
   "source": [
    "import csv\n",
    "\n",
    "with open('Builders_assessment_report_v2_tsa_audit_responses.csv', newline='') as f:\n",
    "    reader = csv.reader(f)\n",
    "    data = list(reader)\n",
    "tsa = data\n",
    "print(data)"
   ]
  },
  {
   "cell_type": "markdown",
   "metadata": {},
   "source": [
    "# On Site Responses"
   ]
  },
  {
   "cell_type": "code",
   "execution_count": 2,
   "metadata": {},
   "outputs": [
    {
     "name": "stdout",
     "output_type": "stream",
     "text": [
      "[['ï»¿9496d8a00df158f23ea891475b8ac2aad6145d540b', '20030702', 'NULL', 'Builders Assessment Report v2', '250', 'Age of Home', '7', '', '9496d8a00df158f23ea891475b8ac2aad6145d540b', 'Complete'], ['9496d8a00df158f23ea891475b8ac2aad6145d540b', '20030702', 'NULL', 'Builders Assessment Report v2', '240', 'Roof Type', 'custom orb - colour coated', 'custom orb - zinc, custom orb - colour coated, trim deck - zinc, trim deck - colour coated,  cliplock, asbestos super six, concrete roof tile, terracotta roof tile, decromastic roof tile, poly carbonate, galvanized, aluminium, insulated paneling', '9496d8a00df158f23ea891475b8ac2aad6145d540b', 'Complete'], ['9496d8a00df158f23ea891475b8ac2aad6145d540b', '20030702', 'NULL', 'Builders Assessment Report v2', '330', 'Details Provided by the Occupant', 'Insured advised that on the 1st may they had a courier that was dropping off there modem for the internet and when the courier driver got out of the car the truck started to roll down the hill into the insureds car and pushed the car into the garage door.', '', '9496d8a00df158f23ea891475b8ac2aad6145d540b', 'Complete'], ['9496d8a00df158f23ea891475b8ac2aad6145d540b', '20030702', 'NULL', 'Builders Assessment Report v2', '320', 'Confirm the Event Date with the insured', '2023-05-01', '', '9496d8a00df158f23ea891475b8ac2aad6145d540b', 'Complete'], ['9496d8a00df158f23ea891475b8ac2aad6145d540b', '20030702', 'NULL', 'Builders Assessment Report v2', '370', 'Is the damage consistent with the claimed event?', 'Yes', 'Yes, No', '9496d8a00df158f23ea891475b8ac2aad6145d540b', 'Complete'], ['9496d8a00df158f23ea891475b8ac2aad6145d540b', '20030702', 'NULL', 'Builders Assessment Report v2', '350', '', 'Ambrose observed the property and found that there was significant impact damage to the garage door and brickwork.  ', '', '9496d8a00df158f23ea891475b8ac2aad6145d540b', 'Complete'], ['9496d8a00df158f23ea891475b8ac2aad6145d540b', '20030702', 'NULL', 'Builders Assessment Report v2', '260', 'Condition', 'good', 'excellent, good, average, poor', '9496d8a00df158f23ea891475b8ac2aad6145d540b', 'Complete'], ['9496d8a00df158f23ea891475b8ac2aad6145d540b', '20030702', 'NULL', 'Builders Assessment Report v2', '230', 'Construction', 'brick veneer', 'cavity brick, brick veneer, concrete block, timber, timber & masonry, cement sheeting, steel framed, steel shed', '9496d8a00df158f23ea891475b8ac2aad6145d540b', 'Complete'], ['9496d8a00df158f23ea891475b8ac2aad6145d540b', '20030702', 'NULL', 'Builders Assessment Report v2', '220', 'Total Area m2', '240-260', '', '9496d8a00df158f23ea891475b8ac2aad6145d540b', 'Complete'], ['9496d8a00df158f23ea891475b8ac2aad6145d540b', '20030702', 'NULL', 'Builders Assessment Report v2', '210', 'Dwelling Type', 'highset', 'highset, lowset, townhouse, split level, apartment', '9496d8a00df158f23ea891475b8ac2aad6145d540b', 'Complete'], ['9496d8a00df158f23ea891475b8ac2aad6145d540b', '20030702', 'NULL', 'Builders Assessment Report v2', '110', 'Date', 'Thu, May 04 2023', '', '9496d8a00df158f23ea891475b8ac2aad6145d540b', 'Complete'], ['9496d8a00df158f23ea891475b8ac2aad6145d540b', '20030702', 'NULL', 'Builders Assessment Report v2', '120', 'Time', '12:10 PM', '', '9496d8a00df158f23ea891475b8ac2aad6145d540b', 'Complete'], ['9496d8a00df158f23ea891475b8ac2aad6145d540b', '20030702', 'NULL', 'Builders Assessment Report v2', '410', 'Asbestos Type', 'No Asbestos', 'No Asbestos, Bonded Asbestos - undisturbed no action, Unsafe broken asbestos - Unrelated to Claim, Unsafe Broken Bonded Asbestos (Class B) - Related to Claim - MS carried out during inspection - NO accommodation, Unsafe Broken Bonded Asbestos (Class B) Related to Claim - Immediate MS and accommodation, Unsafe Broken Bonded Asbestos (Class B) Related to Claim - Area Isolated during inspection - Immediate MS and NO accommodation, Unsafe Friable Asbestos (Class A) - Related to claim - Immediate MS & Accommodation Required', '9496d8a00df158f23ea891475b8ac2aad6145d540b', 'Complete'], ['9496d8a00df158f23ea891475b8ac2aad6145d540b', '20030702', 'NULL', 'Builders Assessment Report v2', '610', 'Policy Determination', 'Accept', 'Accept,Refer to Insurer', '9496d8a00df158f23ea891475b8ac2aad6145d540b', 'Complete'], ['9496d8a00df158f23ea891475b8ac2aad6145d540b', '20030702', 'NULL', 'Builders Assessment Report v2', '710', 'Repair Cost', 'Schedule of Rates', 'Schedule of Rates,Estimate,Quote', '9496d8a00df158f23ea891475b8ac2aad6145d540b', 'Complete'], ['9496d8a00df158f23ea891475b8ac2aad6145d540b', '20030702', 'NULL', 'Builders Assessment Report v2', '850', \"Is there faulty workmanship that has caused the damage to the customer's property?\", 'No', 'Yes, No', '9496d8a00df158f23ea891475b8ac2aad6145d540b', 'Complete'], ['9496d8a00df158f23ea891475b8ac2aad6145d540b', '20030702', 'NULL', 'Builders Assessment Report v2', '840', 'Is there a possibility for recovery?', 'Yes', 'Yes, No', '9496d8a00df158f23ea891475b8ac2aad6145d540b', 'Complete'], ['9496d8a00df158f23ea891475b8ac2aad6145d540b', '20030702', 'NULL', 'Builders Assessment Report v2', '510', 'Is there owner maintenance required?', 'No', 'Yes, No', '9496d8a00df158f23ea891475b8ac2aad6145d540b', 'Complete'], ['9496d8a00df158f23ea891475b8ac2aad6145d540b', '20030702', 'NULL', 'Builders Assessment Report v2', '540', 'Are there building defects on the property?', 'No', 'Yes, No', '9496d8a00df158f23ea891475b8ac2aad6145d540b', 'Complete'], ['9496d8a00df158f23ea891475b8ac2aad6145d540b', '20030702', 'NULL', 'Builders Assessment Report v2', '353', 'Primary Causation:', 'Impact', 'Storm,Flood,Storm Surge,Lightning,Fire,Earthquake and Tsunami,Theft,Impact,Damage by an Animal,Explosion, Riot,Malicious Acts, Escape of Liquid, Other', '9496d8a00df158f23ea891475b8ac2aad6145d540b', 'Complete'], ['9496d8a00df158f23ea891475b8ac2aad6145d540b', '20030702', 'NULL', 'Builders Assessment Report v2', '730', 'Cost: $              inc GST', '$26,662.35', '', '9496d8a00df158f23ea891475b8ac2aad6145d540b', 'Complete'], ['9496d8a00df158f23ea891475b8ac2aad6145d540b', '20030702', 'NULL', 'Builders Assessment Report v2', '380', 'Conclusion', 'Ambrose conclude that the resultant damage has been cause by a car going into the garage door at a bit of speed that has impacted the front brick columns and garage panel door. Ambrose was not a details of info about possible police reports.   ', '', '9496d8a00df158f23ea891475b8ac2aad6145d540b', 'Complete'], ['9496d8a00df158f23ea891475b8ac2aad6145d540b', '20030702', 'NULL', 'Builders Assessment Report v2', '810', 'Were there Contents involved in the Claim? ', 'No', 'Yes, No', '9496d8a00df158f23ea891475b8ac2aad6145d540b', 'Complete'], ['9496d8a00df158f23ea891475b8ac2aad6145d540b', '20030702', 'NULL', 'Builders Assessment Report v2', '270', 'Type of Claim', 'Impact', 'Storm, Fire, Impact, Lightning Strike, Malicious Damage, Theft or Attempted Theft, Escape of Liquid, Flood, Earthquake and Tsunami, Damage by an Animal, Explosion, Riot or civil commotion or public disturbance', '9496d8a00df158f23ea891475b8ac2aad6145d540b', 'Complete'], ['9496d8a00df158f23ea891475b8ac2aad6145d540b', '20030702', 'NULL', 'Builders Assessment Report v2', '130', 'Assessment Attended By:', 'Insured 1', \"insured, insured's contact, property manager, tenant, other, no attendance\", '9496d8a00df158f23ea891475b8ac2aad6145d540b', 'Complete'], ['9496d8a00df158f23ea891475b8ac2aad6145d540b', '20030702', 'NULL', 'Builders Assessment Report v2', '620', 'Policy Determination ', 'Accept under impact damage and can be recovered from courier company ', '', '9496d8a00df158f23ea891475b8ac2aad6145d540b', 'Complete'], ['9496d8a00df158f23ea891475b8ac2aad6145d540b', '20030702', 'NULL', 'Builders Assessment Report v2', '140', 'Attended By - Name: ', 'Jarrad', '', '9496d8a00df158f23ea891475b8ac2aad6145d540b', 'Complete'], ['9496d8a00df158f23ea891475b8ac2aad6145d540b', '20030702', 'NULL', 'Builders Assessment Report v2', '750', 'Repairs Proceeding within Authorisation Limits', ' No - Exceeds D&C limit', 'Yes - Proceeding as D&C, Yes - Proceeding as Schedule of Rates, Yes - D&C proceeding with Partial CS for Boundary Fence, Yes - D&C proceeding with Partial CS for Building Defect, No - Owner Maintenance, No - Building not to Code, No - Exceeds D&C limit, No - Policy Determination Required, No - Claim to be cash settled, No - Insured is deciding how they would like to proceed with the claim', '9496d8a00df158f23ea891475b8ac2aad6145d540b', 'Complete'], ['9496d8a00df158f23ea891475b8ac2aad6145d540b', '20030702', 'NULL', 'Builders Assessment Report v2', '356', 'Are there any engineers reports required for this claim?', 'No', 'Yes, No', '9496d8a00df158f23ea891475b8ac2aad6145d540b', 'Complete'], ['9496d8a00df158f23ea891475b8ac2aad6145d540b', '20030702', 'NULL', 'Builders Assessment Report v2', '570', 'Does the customer require temporary accommodation?', 'No', 'Yes, No', '9496d8a00df158f23ea891475b8ac2aad6145d540b', 'Complete'], ['9496d8a00df158f23ea891475b8ac2aad6145d540b', '20030702', 'NULL', 'Builders Assessment Report v2', '9999', 'Ask Insulation Bats?', 'No', 'Yes, No', '9496d8a00df158f23ea891475b8ac2aad6145d540b', 'Complete']]\n"
     ]
    }
   ],
   "source": [
    "with open('Builders_assessment_report_v2.csv', newline='') as f:\n",
    "    reader = csv.reader(f)\n",
    "    data = list(reader)\n",
    "\n",
    "print(data)"
   ]
  },
  {
   "cell_type": "markdown",
   "metadata": {},
   "source": [
    "# Mapping"
   ]
  },
  {
   "cell_type": "code",
   "execution_count": 4,
   "metadata": {},
   "outputs": [
    {
     "name": "stdout",
     "output_type": "stream",
     "text": [
      "[['120', 'Time', '12'], ['110', 'Date', '12'], ['210', 'Dwelling Type', '12'], ['220', 'Total Area m2', '12'], ['230', 'Construction', '12'], ['260', 'Condition', '12'], ['250', 'Age of Home', '12'], ['240', 'Roof Type', '12'], ['330', 'Details Provided by the Occupant', '8'], ['320', 'Confirm the Event Date with the insured', '8'], ['370', 'Is the damage consistent with the claimed event?', '9'], ['350', 'Asbestos present', '12'], ['410', 'Asbestos Type', '12'], ['610', 'Policy Determination', '11'], ['710', 'Repair Cost', 'N/A'], ['750', 'Repairs Proceeding within Authorisation Limits', '11'], ['730', 'Cost: $ inc GST', 'N/A'], ['380', 'Conclusion', '11'], ['810', 'Were there Contents involved in the Claim?', '9'], ['270', 'Type of Claim', '8'], ['130', 'Assessment Attended By:', '12'], ['610', 'Policy Determination', '11'], ['140', 'Attended By - Name:', '8'], ['850', \"Is there faulty workmanship that has caused the damage to the customer's property?\", '12'], ['840', 'Is there a possibility for recovery?', '12'], ['510', 'Is there owner maintenance required?', '12'], ['540', 'Are there building defects on the property?', '12'], ['353', 'Primary Causation:', '10'], ['356', 'Are there any engineers reports required for this claim?', '11'], ['570', 'Does the customer require temporary accommodation?', '12'], ['9999', 'Ask Insulation Batts?', '12']]\n"
     ]
    }
   ],
   "source": [
    "with open('Builders_assessment_report_tsa_mappings_suncorp.csv', newline='') as f:\n",
    "    reader = csv.reader(f)\n",
    "    data = list(reader)\n",
    "\n",
    "print(data)"
   ]
  },
  {
   "cell_type": "markdown",
   "metadata": {},
   "source": [
    "Group TSA mappings by col2"
   ]
  },
  {
   "cell_type": "code",
   "execution_count": 49,
   "metadata": {},
   "outputs": [
    {
     "name": "stdout",
     "output_type": "stream",
     "text": [
      "Group name:  8.0\n",
      "330\n",
      "320\n",
      "270\n",
      "140\n",
      "Group name:  9.0\n",
      "370\n",
      "810\n",
      "Group name:  10.0\n",
      "353\n",
      "Group name:  11.0\n",
      "610\n",
      "750\n",
      "380\n",
      "610\n",
      "356\n",
      "Group name:  12.0\n",
      "120\n",
      "110\n",
      "210\n",
      "220\n",
      "230\n",
      "260\n",
      "250\n",
      "240\n",
      "350\n",
      "410\n",
      "130\n",
      "850\n",
      "840\n",
      "510\n",
      "540\n",
      "570\n",
      "9999\n"
     ]
    }
   ],
   "source": [
    "import pandas as pd\n",
    "\n",
    "# Load the data from a CSV file\n",
    "df = pd.read_csv('Builders_assessment_report_tsa_mappings_suncorp.csv', header=None)\n",
    "\n",
    "# Group by column 2\n",
    "grouped = df.groupby(2)\n",
    "\n",
    "# To see the groups\n",
    "for name, group in grouped:\n",
    "    print(\"Group name: \", name)\n",
    "   \n",
    "    for index, row in group.iterrows():\n",
    "        print(row[1])\n"
   ]
  },
  {
   "cell_type": "code",
   "execution_count": 53,
   "metadata": {},
   "outputs": [
    {
     "name": "stdout",
     "output_type": "stream",
     "text": [
      "250\n",
      "Age of Home\n",
      "240\n",
      "Roof Type\n",
      "330\n",
      "Details Provided by the Occupant\n",
      "320\n",
      "Confirm the Event Date with the insured\n",
      "370\n",
      "Is the damage consistent with the claimed event?\n",
      "350\n",
      "nan\n",
      "260\n",
      "Condition\n",
      "230\n",
      "Construction\n",
      "220\n",
      "Total Area m2\n",
      "210\n",
      "Dwelling Type\n",
      "110\n",
      "Date\n",
      "120\n",
      "Time\n",
      "410\n",
      "Asbestos Type\n",
      "610\n",
      "Policy Determination\n",
      "710\n",
      "Repair Cost\n",
      "850\n",
      "Is there faulty workmanship that has caused the damage to the customer's property?\n",
      "840\n",
      "Is there a possibility for recovery?\n",
      "510\n",
      "Is there owner maintenance required?\n",
      "540\n",
      "Are there building defects on the property?\n",
      "353\n",
      "Primary Causation:\n",
      "730\n",
      "Cost: $              inc GST\n",
      "380\n",
      "Conclusion\n",
      "810\n",
      "Were there Contents involved in the Claim? \n",
      "270\n",
      "Type of Claim\n",
      "130\n",
      "Assessment Attended By:\n",
      "620\n",
      "Policy Determination \n",
      "140\n",
      "Attended By - Name: \n",
      "750\n",
      "Repairs Proceeding within Authorisation Limits\n",
      "356\n",
      "Are there any engineers reports required for this claim?\n",
      "570\n",
      "Does the customer require temporary accommodation?\n",
      "9999\n",
      "Ask Insulation Bats?\n"
     ]
    }
   ],
   "source": [
    "# Load the second CSV file\n",
    "df2 = pd.read_csv('Builders_assessment_report_v2.csv', header=None)\n",
    "# Iterate over each row in the DataFrame\n",
    "for index, row in df2.iterrows():\n",
    "    #print(row)\n",
    "    print(row[4])\n",
    "    print(row[5])"
   ]
  },
  {
   "cell_type": "code",
   "execution_count": 55,
   "metadata": {},
   "outputs": [
    {
     "name": "stdout",
     "output_type": "stream",
     "text": [
      "Empty DataFrame\n",
      "Columns: [2, 0_x, 1_x, 2_x, 0_y, 1_y, 2_y, 3, 4, 5, 6, 7, 8, 9]\n",
      "Index: []\n"
     ]
    }
   ],
   "source": [
    "import pandas as pd\n",
    "\n",
    "# Load the data from the first CSV file\n",
    "df = pd.read_csv('Builders_assessment_report_tsa_mappings_suncorp.csv', header=None)\n",
    "\n",
    "# Load the second CSV file\n",
    "df2 = pd.read_csv('Builders_assessment_report_v2.csv', header=None)\n",
    "\n",
    "# Merge the two DataFrames on the common column (column 2 in df and column 1 in df2)\n",
    "merged_df = pd.merge(df, df2, left_on=2, right_on=1)\n",
    "\n",
    "# Print the merged DataFrame\n",
    "print(merged_df)"
   ]
  },
  {
   "cell_type": "code",
   "execution_count": 41,
   "metadata": {},
   "outputs": [
    {
     "name": "stdout",
     "output_type": "stream",
     "text": [
      "{'Date': [[110, 'Date', 12]], 'Dwelling Type': [[210, 'Dwelling Type', 12]], 'Time': [[120, 'Time', 12]], 'Total Area m2': [[220, 'Total Area m2', 12]]}\n"
     ]
    }
   ],
   "source": [
    "import pandas as pd\n",
    "from io import StringIO\n",
    "\n",
    "# Your data\n",
    "data = \"\"\"120,Time,12\n",
    "110,Date,12\n",
    "210,Dwelling Type,12\n",
    "220,Total Area m2,12\"\"\"\n",
    "\n",
    "# Read the data into a DataFrame\n",
    "df = pd.read_csv(StringIO(data), header=None)\n",
    "\n",
    "# Group by the second column (at index 1) and convert to dictionary\n",
    "grouped_dict = df.groupby(df.columns[1]).apply(lambda g: g.values.tolist()).to_dict()\n",
    "\n",
    "print(grouped_dict)"
   ]
  },
  {
   "cell_type": "markdown",
   "metadata": {},
   "source": [
    "# Combine"
   ]
  },
  {
   "cell_type": "code",
   "execution_count": null,
   "metadata": {},
   "outputs": [],
   "source": []
  }
 ],
 "metadata": {
  "kernelspec": {
   "display_name": "Python 3",
   "language": "python",
   "name": "python3"
  },
  "language_info": {
   "codemirror_mode": {
    "name": "ipython",
    "version": 3
   },
   "file_extension": ".py",
   "mimetype": "text/x-python",
   "name": "python",
   "nbconvert_exporter": "python",
   "pygments_lexer": "ipython3",
   "version": "3.12.1"
  }
 },
 "nbformat": 4,
 "nbformat_minor": 2
}
